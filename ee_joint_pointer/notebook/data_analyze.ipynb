{
 "cells": [
  {
   "cell_type": "markdown",
   "metadata": {},
   "source": [
    "## 文本分析"
   ]
  },
  {
   "cell_type": "markdown",
   "metadata": {},
   "source": [
    "文本长度分布"
   ]
  },
  {
   "cell_type": "code",
   "execution_count": 8,
   "metadata": {},
   "outputs": [
    {
     "name": "stdout",
     "output_type": "stream",
     "text": [
      "count    46696.000000\n",
      "mean        90.841314\n",
      "std         98.551987\n",
      "min          5.000000\n",
      "25%         50.000000\n",
      "50%         70.000000\n",
      "75%         98.000000\n",
      "85%        126.000000\n",
      "95%        193.000000\n",
      "max       1220.000000\n",
      "dtype: float64\n"
     ]
    }
   ],
   "source": [
    "import json\n",
    "import pandas as pd\n",
    "len_list = []\n",
    "file_list = ['test', 'train', 'val']\n",
    "for file in file_list:\n",
    "    with open(f'../data/{file}.data', 'r', encoding='utf-8') as f:\n",
    "        len_list += [len(d['context']) for d in json.load(f)]\n",
    "#         len_list += [len(line.strip().split(' ')) for line in f]\n",
    "print(pd.Series(len_list).describe(percentiles=[.25, .5, .75, .85, .95]))"
   ]
  },
  {
   "cell_type": "markdown",
   "metadata": {},
   "source": [
    "查看文本类别个数分布"
   ]
  },
  {
   "cell_type": "code",
   "execution_count": 11,
   "metadata": {},
   "outputs": [
    {
     "name": "stdout",
     "output_type": "stream",
     "text": [
      "Counter({1: 36755, 2: 6350, 3: 1371, 4: 334, 5: 69, 8: 17})\n"
     ]
    }
   ],
   "source": [
    "from pathlib import Path\n",
    "import json\n",
    "from collections import Counter\n",
    "train_data_dir = Path('../data/train.data')\n",
    "with open(train_data_dir, 'r', encoding='utf-8-sig') as f:\n",
    "    train_data = json.load(f)\n",
    "type_count = []\n",
    "for d in train_data:\n",
    "    type_count.append(len(d['type']))\n",
    "print(Counter(type_count))"
   ]
  },
  {
   "cell_type": "code",
   "execution_count": null,
   "metadata": {},
   "outputs": [],
   "source": []
  }
 ],
 "metadata": {
  "kernelspec": {
   "display_name": "Python 3",
   "language": "python",
   "name": "python3"
  },
  "language_info": {
   "codemirror_mode": {
    "name": "ipython",
    "version": 3
   },
   "file_extension": ".py",
   "mimetype": "text/x-python",
   "name": "python",
   "nbconvert_exporter": "python",
   "pygments_lexer": "ipython3",
   "version": "3.7.7"
  },
  "toc": {
   "base_numbering": 1,
   "nav_menu": {},
   "number_sections": false,
   "sideBar": true,
   "skip_h1_title": false,
   "title_cell": "Table of Contents",
   "title_sidebar": "Contents",
   "toc_cell": false,
   "toc_position": {
    "height": "calc(100% - 180px)",
    "left": "10px",
    "top": "150px",
    "width": "512px"
   },
   "toc_section_display": true,
   "toc_window_display": false
  }
 },
 "nbformat": 4,
 "nbformat_minor": 4
}
